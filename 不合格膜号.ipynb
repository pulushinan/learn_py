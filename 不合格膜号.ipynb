{
 "cells": [
  {
   "cell_type": "code",
   "execution_count": 1,
   "metadata": {},
   "outputs": [],
   "source": [
    "\n",
    "# 载入库\n",
    "import xlrd\n",
    "import xlwt\n",
    "from xlwt import Workbook\n",
    "import numpy as np\n"
   ]
  },
  {
   "cell_type": "code",
   "execution_count": 2,
   "metadata": {},
   "outputs": [],
   "source": [
    "\n",
    "# 载入原始Excel表\n",
    "loc = ('test.xlsx')\n"
   ]
  },
  {
   "cell_type": "code",
   "execution_count": 3,
   "metadata": {},
   "outputs": [],
   "source": [
    "\n",
    "# 打开表格及工作簿\n",
    "wb = xlrd.open_workbook(loc)\n",
    "sheet = wb.sheet_by_index(0)\n"
   ]
  },
  {
   "cell_type": "code",
   "execution_count": 4,
   "metadata": {},
   "outputs": [],
   "source": [
    "# 行数\n",
    "row = sheet.nrows\n",
    "\n",
    "# 载入膜号列数\n",
    "col_of_index = [2]\n"
   ]
  },
  {
   "cell_type": "code",
   "execution_count": 5,
   "metadata": {},
   "outputs": [],
   "source": [
    "\n",
    "# 数据处理、转置、编组\n",
    "d = []\n",
    "index = -1\n",
    "for j in col_of_index:\n",
    "    for i in range(row):\n",
    "        cur = sheet.cell_value(i, j)\n",
    "        if type(cur) == float:\n",
    "            rValue = sheet.cell_value(i, j + 5)\n",
    "            if type(rValue) == float or type(rValue) == int:\n",
    "                if index < 0 or d[index][0] != int(cur):\n",
    "                    d.append((int(cur), [rValue]))\n",
    "                    index = index + 1\n",
    "                else:\n",
    "                    d[index][1].append(rValue)\n",
    "                    "
   ]
  },
  {
   "cell_type": "code",
   "execution_count": 6,
   "metadata": {},
   "outputs": [],
   "source": [
    "\n",
    "# 重复膜号\n",
    "s = set()\n",
    "wrong_pos = set()\n",
    "for i in range(index + 1):\n",
    "    if d[i][0] in s:\n",
    "        wrong_pos.add(d[i][0])\n",
    "    else:\n",
    "        s.add(d[i][0])\n"
   ]
  },
  {
   "cell_type": "code",
   "execution_count": 7,
   "metadata": {},
   "outputs": [],
   "source": [
    "\n",
    "# 先进行错误膜号的修改\n",
    "useless_pos = set()\n",
    "for i in range(len(d)):\n",
    "    if i > 0:  # 输出错号,修改录入出错的情况再进行录入\n",
    "        a = len(d[i - 1][1])\n",
    "        b = len(d[i][1])\n",
    "        if a + b == 4:  # 修改录入错误的膜号\n",
    "            for k in range(a - 1, -1, -1):\n",
    "                d[i][1].append(d[i - 1][1][k])\n",
    "                del d[i - 1][1][k]\n",
    "            d[i - 1][1].append(-1)\n",
    "            useless_pos.add(d[i - 1][0])\n",
    "        elif a > b and a + b == 8:  # 修改忘记改号的膜号\n",
    "            for k in range(a - 1, 3, -1):\n",
    "                d[i][1].append(d[i - 1][1][k])\n",
    "                del d[i - 1][1][k]  # d[i - 1][1].remove(d[i - 1][1][k]) remove是对数值去除\n",
    "        elif a == 8 and b == 1:  # 修改另一种忘记改号的情况\n",
    "            for k in range(a - 1, 3, -1):\n",
    "                d[i][1].append(d[i - 1][1][k])\n",
    "                del d[i - 1][1][k]\n",
    "            del d[i][1][0]\n"
   ]
  },
  {
   "cell_type": "code",
   "execution_count": 9,
   "metadata": {},
   "outputs": [
    {
     "name": "stdout",
     "output_type": "stream",
     "text": [
      "[(1970, [4.88, 8.77, 0.0575, 1.7484, 4.74, 8.81, 0.1111, 2.2507, 4.78, 8.91, 0.0972, 1.7441, 4.74, 8.87, 0.1048, 2.0371, 4.74, 8.84, 0.1129, 2.0003, 4.64, 8.81, 0.0918, 1.6197]), (1941, [4.74, 8.84, 0.1023, 1.8275, 4.78, 8.87, 0.1086, 2.0044]), (1969, [4.71, 8.81, 0.1059, 1.6731, 4.74, 8.84, 0.0896, 1.6187, 4.84, 8.94, 0.0914, 1.7548, 4.88, 8.94, 0.0982, 1.6886, 4.61, 8.81, 0.1388, 1.8626, 4.61, 8.77, 0.1326, 1.9753, 4.61, 8.74, 0.1752, 2.6856, 4.61, 8.77, 0.1433, 2.1827]), (1942, [4.61, 8.77, 0.1403, 2.1807]), (1958, [4.54, 8.77, 0.256, 1.836, 4.57, 8.7, 0.152, 2.2521, 4.88, 9.01, 0.1597, 2.3592, 4.81, 9.01, 0.1387, 1.94, 4.61, 8.77, 0.1229, 1.7235]), (1937, [4.67, 8.77, 0.1369, 1.9599, 4.84, 8.97, 0.1368, 2.1837, 4.88, 8.97, 0.1303, 1.8929]), (19343, [4.67, 8.81, 0.0979, 1.8221]), (1934, [4.74, 8.87, 0.0732, 0.6547, 5.01, 9.11, 0.12, 2.3271, 4.98, 9.08, 0.1171, 1.9851])]\n"
     ]
    }
   ],
   "source": [
    "\n",
    "# 用新的dist录入C带T带的值和位置\n",
    "b = []\n",
    "value = []\n",
    "index = -1\n",
    "j = 2\n",
    "for i in range(row):\n",
    "    cur = sheet.cell_value(i, j)\n",
    "    if type(cur) == float:\n",
    "        for k in range(1, 5):\n",
    "            rValue = sheet.cell_value(i, j + k)\n",
    "            if type(rValue) == float or type(rValue) == int:\n",
    "                if index < 0 or d[index][0] != int(cur):\n",
    "                    b.append((int(cur), [rValue]))\n",
    "                    index = index + 1\n",
    "                else:\n",
    "                    b[index][1].append(rValue)\n",
    "                 "
   ]
  },
  {
   "cell_type": "code",
   "execution_count": null,
   "metadata": {},
   "outputs": [],
   "source": []
  }
 ],
 "metadata": {
  "kernelspec": {
   "display_name": "Python 3",
   "language": "python",
   "name": "python3"
  },
  "language_info": {
   "codemirror_mode": {
    "name": "ipython",
    "version": 3
   },
   "file_extension": ".py",
   "mimetype": "text/x-python",
   "name": "python",
   "nbconvert_exporter": "python",
   "pygments_lexer": "ipython3",
   "version": "3.7.3"
  }
 },
 "nbformat": 4,
 "nbformat_minor": 2
}
