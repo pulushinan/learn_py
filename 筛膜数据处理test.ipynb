{
 "cells": [
  {
   "cell_type": "code",
   "execution_count": 15,
   "metadata": {},
   "outputs": [],
   "source": [
    "\n",
    "# 载入库\n",
    "import xlrd\n",
    "import xlwt\n",
    "from xlwt import Workbook\n",
    "import numpy as np\n"
   ]
  },
  {
   "cell_type": "code",
   "execution_count": 16,
   "metadata": {},
   "outputs": [],
   "source": [
    "\n",
    "# 载入原始Excel表\n",
    "loc = ('test.xlsx')\n"
   ]
  },
  {
   "cell_type": "code",
   "execution_count": 17,
   "metadata": {},
   "outputs": [],
   "source": [
    "\n",
    "# 打开表格及工作簿\n",
    "wb = xlrd.open_workbook(loc)\n",
    "sheet = wb.sheet_by_index(0)\n"
   ]
  },
  {
   "cell_type": "code",
   "execution_count": 18,
   "metadata": {},
   "outputs": [],
   "source": [
    "\n",
    "# 行数\n",
    "row = sheet.nrows\n",
    "\n",
    "# 载入膜号列数\n",
    "col_of_index = [2]\n"
   ]
  },
  {
   "cell_type": "code",
   "execution_count": 36,
   "metadata": {},
   "outputs": [
    {
     "name": "stdout",
     "output_type": "stream",
     "text": [
      "[(1970, [0.0329, 0.0494, 0.0557, 0.0515, 0.0564, 0.0567]), (1941, [0.056, 0.0542]), (1969, [0.0633, 0.0554, 0.0521, 0.0582, 0.0745, 0.0671, 0.0652, 0.0656]), (1942, [0.0643]), (1958, [0.1394, 0.0675, 0.0677, 0.0715, 0.0713]), (1937, [0.0699, 0.0627, 0.0688]), (19343, [0.0537]), (1934, [0.1119, 0.0516, 0.059])]\n"
     ]
    }
   ],
   "source": [
    "\n",
    "# 数据处理、转置、编组\n",
    "d = []\n",
    "index = -1\n",
    "for j in col_of_index:\n",
    "    for i in range(row):\n",
    "        cur = sheet.cell_value(i, j)\n",
    "        if type(cur) == float:\n",
    "            rValue = sheet.cell_value(i, j + 5)\n",
    "            if type(rValue) == float or type(rValue) == int:\n",
    "                if index < 0 or d[index][0] != int(cur):\n",
    "                    d.append((int(cur), [rValue]))\n",
    "                    index = index + 1\n",
    "                else:\n",
    "                    d[index][1].append(rValue)\n",
    "print(d)                    "
   ]
  },
  {
   "cell_type": "code",
   "execution_count": 20,
   "metadata": {},
   "outputs": [],
   "source": [
    "\n",
    "# 重复膜号\n",
    "error = 0\n",
    "s = set()\n",
    "wrong_pos = set()\n",
    "for i in range(index + 1):\n",
    "    if d[i][0] in s:\n",
    "        wrong_pos.add(d[i][0])\n",
    "    else:\n",
    "        s.add(d[i][0])\n"
   ]
  },
  {
   "cell_type": "code",
   "execution_count": 21,
   "metadata": {},
   "outputs": [],
   "source": [
    "\n",
    "# 将处理好的数据保存\n",
    "# 创建工作簿\n",
    "wb = Workbook()\n",
    "sheet1 = wb.add_sheet('数据处理')\n",
    "sheet2 = wb.add_sheet('出错数据')\n"
   ]
  },
  {
   "cell_type": "code",
   "execution_count": 22,
   "metadata": {},
   "outputs": [],
   "source": [
    "\n",
    "# 标色出错膜号规则\n",
    "styleWrongPos = xlwt.easyxf('pattern: pattern solid, fore_colour ocean_blue; font: bold on;')\n",
    "styleMoreOrLess = xlwt.easyxf('pattern: pattern solid, fore_colour red; font: bold on;')\n"
   ]
  },
  {
   "cell_type": "code",
   "execution_count": 23,
   "metadata": {},
   "outputs": [],
   "source": [
    "\n",
    "# 写入抬头\n",
    "sheet1.write(0, 0, '膜号')\n",
    "sheet1.write(0, 1, 'RI值')\n",
    "sheet1.write(0, 2, 'RI值')\n",
    "sheet1.write(0, 3, 'RI值')\n",
    "sheet1.write(0, 4, 'RI值')\n",
    "sheet1.write(0, 5, 'AVG')\n",
    "sheet1.write(0, 6, 'CV')\n",
    "sheet2.write(0, 0, '膜号')\n",
    "sheet2.write(0, 1, 'RI值')\n"
   ]
  },
  {
   "cell_type": "code",
   "execution_count": 42,
   "metadata": {},
   "outputs": [
    {
     "name": "stdout",
     "output_type": "stream",
     "text": [
      "4 1941\n",
      "8 1969\n",
      "1 1942\n",
      "4 1958\n",
      "4 1937\n",
      "1 19343\n",
      "[(1970, [0.0329, 0.0494, 0.0557, 0.0515]), (1941, [0.056, 0.0542, 0.0564, 0.0567]), (1969, [0.0633, 0.0554, 0.0521, 0.0582, 0.0745, 0.0671, 0.0652, 0.0656]), (1942, [0.0656]), (1958, [0.1394, 0.0675, 0.0677, 0.0715]), (1937, [0.0699, 0.0627, 0.0688, 0.0713]), (19343, [0.0537]), (1934, [0.1119, 0.0516, 0.059])]\n"
     ]
    }
   ],
   "source": [
    "\n",
    "# 先进行错误膜号的修改\n",
    "for i in range(index):\n",
    "    if i > 0:        # 输出错号,修改录入出错的情况再进行录入\n",
    "        a = len(d[i - 1][1])\n",
    "        b = len(d[i][1])\n",
    "        print(b,d[i][0])\n",
    "        if a + b == 4:                      # 修改录入错误的膜号\n",
    "            for k in range(b):\n",
    "                d[i][1].append(d[i - 1][1][k])\n",
    "                d[i - 1][1].remove(d[i - 1][1][k])\n",
    "                d[i - 1][1].append(0)\n",
    "                wrong_pos.add(d[i - 1][0])\n",
    "        elif a > b and a + b == 8:          # 修改忘记改号的膜号\n",
    "            for k in range(4,a):\n",
    "                d[i][1].append(d[i - 1][1][k])\n",
    "                d[i - 1][1].remove(d[i - 1][1][k])\n",
    "        elif a == 8 and b == 1:             # 修改另一种忘记改号的情况\n",
    "            for k in range(4,a):\n",
    "                d[i][1].append(d[i - 1][1][k])\n",
    "                d[i][1].remove(d[i][1][0])\n",
    "print(d)"
   ]
  },
  {
   "cell_type": "code",
   "execution_count": 13,
   "metadata": {},
   "outputs": [],
   "source": [
    "# 再进行膜号的分别输出\n",
    "n = 1\n",
    "m = 1\n",
    "j = 0\n",
    "for i in range(index + 1):\n",
    "    if d[i][0] in wrong_pos:\n",
    "        sheet2.write(n, 0, d[i][0])\n",
    "        for j in range(len(d[i][1])):\n",
    "            sheet2.write(n, j + 1, d[i][1][j], styleWrongPos)\n",
    "        n = n + 1\n",
    "    elif len(d[i][1]) != 4:\n",
    "        sheet2.write(n, 0, d[i][0])\n",
    "        for j in range(len(d[i][1])):\n",
    "            sheet2.write(n, j + 1, d[i][1][j], styleMoreOrLess)\n",
    "        n = n + 1\n",
    "    else:\n",
    "        sheet1.write(m, 0, d[i][0])\n",
    "        for j in range(len(d[i][1])):\n",
    "            sheet1.write(m, j + 1, d[i][1][j])\n",
    "        tmp = [float(x) for x in d[i][1]]\n",
    "        mean = np.mean(tmp)\n",
    "        std = np.std(tmp)\n",
    "        sheet1.write(m, j + 2, mean)\n",
    "        sheet1.write(m, j + 3, std / mean)\n",
    "        m = m + 1       \n",
    "                \n",
    "#导出工作簿\n",
    "wb.save('数据处理.xls')"
   ]
  },
  {
   "cell_type": "code",
   "execution_count": null,
   "metadata": {},
   "outputs": [],
   "source": []
  }
 ],
 "metadata": {
  "kernelspec": {
   "display_name": "Python 3",
   "language": "python",
   "name": "python3"
  },
  "language_info": {
   "codemirror_mode": {
    "name": "ipython",
    "version": 3
   },
   "file_extension": ".py",
   "mimetype": "text/x-python",
   "name": "python",
   "nbconvert_exporter": "python",
   "pygments_lexer": "ipython3",
   "version": "3.7.3"
  }
 },
 "nbformat": 4,
 "nbformat_minor": 2
}
