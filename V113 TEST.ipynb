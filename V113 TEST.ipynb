{
 "cells": [
  {
   "cell_type": "code",
   "execution_count": 1,
   "metadata": {},
   "outputs": [],
   "source": [
    "\n",
    "# 载入库\n",
    "import xlrd\n",
    "import xlwt\n",
    "from xlwt import Workbook\n",
    "import numpy as np\n"
   ]
  },
  {
   "cell_type": "code",
   "execution_count": 2,
   "metadata": {},
   "outputs": [],
   "source": [
    "\n",
    "# 载入原始Excel表\n",
    "loc = ('test.xlsx')\n"
   ]
  },
  {
   "cell_type": "code",
   "execution_count": 3,
   "metadata": {},
   "outputs": [],
   "source": [
    "\n",
    "# 打开表格及工作簿\n",
    "wb = xlrd.open_workbook(loc)\n",
    "sheet = wb.sheet_by_index(0)\n"
   ]
  },
  {
   "cell_type": "code",
   "execution_count": 4,
   "metadata": {},
   "outputs": [],
   "source": [
    "\n",
    "# 行数\n",
    "row = sheet.nrows\n",
    "\n",
    "# 载入膜号列数\n",
    "col_of_index = [2]\n",
    "\n"
   ]
  },
  {
   "cell_type": "markdown",
   "metadata": {},
   "source": [
    "## TODO:find failed numbers before append them to d[]"
   ]
  },
  {
   "cell_type": "code",
   "execution_count": 5,
   "metadata": {},
   "outputs": [],
   "source": [
    "\n",
    "# 数据处理、转置、编组、筛选出不合格膜号\n",
    "# 这里仅仅筛选出位置前移和绝对值偏低的\n",
    "d = []\n",
    "locfailed = set()\n",
    "absfailed = set()\n",
    "index = -1\n",
    "downT = 3.95\n",
    "upT = 5.05\n",
    "absT = 0.045\n",
    "absC = 0.7\n",
    "el = 1 # 区分初筛、复筛\n",
    "er = 0\n",
    "for j in col_of_index:\n",
    "    for i in range(row):\n",
    "        cur = sheet.cell_value(i, j)\n",
    "        if type(cur) == float:\n",
    "            T = float(sheet.cell_value(i, j + 1))\n",
    "            C = float(sheet.cell_value(i, j + 2))\n",
    "            t = float(sheet.cell_value(i, j + 3))\n",
    "            c = float(sheet.cell_value(i, j + 4))\n",
    "            rValue = sheet.cell_value(i, j + 5)\n",
    "            er = 0\n",
    "            if T <= downT or T >= upT:# 筛选T位置偏移\n",
    "                er += 1\n",
    "                if er >= el:\n",
    "                    locfailed.add(int(cur))\n",
    "            if t <= absT:# 筛选T绝对值低\n",
    "                er += 1\n",
    "                if er >= el:\n",
    "                    absfailed.add(int(cur))\n",
    "            if c <= absC:# 筛选C绝对值低\n",
    "                er += 1\n",
    "                if er >= el:\n",
    "                    absfailed.add(int(cur))\n",
    "            if type(rValue) == float or type(rValue) == int:\n",
    "                if index < 0 or d[index][0] != int(cur):\n",
    "                    d.append((int(cur), [rValue]))\n",
    "                    index += 1\n",
    "                else:\n",
    "                    d[index][1].append(rValue)    \n",
    "                    "
   ]
  },
  {
   "cell_type": "code",
   "execution_count": 6,
   "metadata": {},
   "outputs": [],
   "source": [
    "\n",
    "# 出错膜号\n",
    "s = set()\n",
    "wrong_pos = set()\n",
    "less_pos = set()\n",
    "for i in range(index + 1):\n",
    "    if d[i][0] in s:\n",
    "        wrong_pos.add(d[i][0])\n",
    "    else:\n",
    "        s.add(d[i][0])\n",
    "\n",
    "# 将处理好的数据保存\n",
    "# 创建工作簿\n",
    "wb = Workbook()\n",
    "sheet1 = wb.add_sheet('数据转置', cell_overwrite_ok=True)\n",
    "sheet2 = wb.add_sheet('初筛处理结果', cell_overwrite_ok=True)\n",
    "\n",
    "# 标色出错膜号\n",
    "styleWrongPos = xlwt.easyxf('pattern: pattern solid, fore_colour ocean_blue; font: bold on;')\n",
    "styleMoreOrLess = xlwt.easyxf('pattern: pattern solid, fore_colour red; font: bold on;')\n",
    "\n",
    "# 写入抬头\n",
    "sheet1.write(0, 0, '膜号')\n",
    "sheet1.write(0, 1, 'RI值')\n",
    "sheet1.write(0, 2, 'RI值')\n",
    "sheet1.write(0, 3, 'RI值')\n",
    "sheet1.write(0, 4, 'RI值')\n",
    "sheet1.write(0, 5, 'AVG')\n",
    "sheet1.write(0, 6, 'CV')\n",
    "sheet2.write(0, 0, '重错膜号')\n",
    "sheet2.write(0, 2, '缺失膜号')\n",
    "sheet2.write(0, 4, '位置偏移')\n",
    "sheet2.write(0, 6, '绝对值偏低')\n",
    "sheet2.write(0, 8, 'CV不合格')\n",
    "sheet2.write(0, 10, '复筛膜号汇总')\n"
   ]
  },
  {
   "cell_type": "code",
   "execution_count": 7,
   "metadata": {},
   "outputs": [],
   "source": [
    "monum = 4245 + 1\n",
    "# 先进行错误膜号的修改\n",
    "useless_pos = set()  # 输出错号,修改录入出错的情况再进行录入\n",
    "for i in range(len(d)):\n",
    "    if i > 0:  # 输出错号,修改录入出错的情况再进行录入\n",
    "        a = len(d[i - 1][1])\n",
    "        b = len(d[i][1])\n",
    "        if a + b == 4:  # 修改录入错误的膜号\n",
    "            for k in range(a - 1, -1, -1):\n",
    "                d[i][1].append(d[i - 1][1][k])\n",
    "                del d[i - 1][1][k]\n",
    "            d[i - 1][1].append(-1)\n",
    "            useless_pos.add(d[i - 1][0])\n",
    "        elif a > b and a + b == 8:  # 修改忘记改号的膜号\n",
    "            for k in range(a - 1, 3, -1):\n",
    "                d[i][1].append(d[i - 1][1][k])\n",
    "                del d[i - 1][1][k]  # d[i - 1][1].remove(d[i - 1][1][k]) remove是对数值去除\n",
    "        elif a == 8 and b == 1:  # 修改另一种忘记改号的情况\n",
    "            for k in range(a - 1, 3, -1):\n",
    "                d[i][1].append(d[i - 1][1][k])\n",
    "                del d[i - 1][1][k]\n",
    "            del d[i][1][0]\n",
    "    if d[i][0]>monum:\n",
    "        useless_pos.add(d[i][0])\n",
    "        "
   ]
  },
  {
   "cell_type": "code",
   "execution_count": 8,
   "metadata": {},
   "outputs": [],
   "source": [
    "\n",
    "# 再进行膜号的分别输出\n",
    "n = 1\n",
    "m = 1\n",
    "j = 0\n",
    "less_pos = set()\n",
    "cvfailed = set()\n",
    "for i in range(index + 1):\n",
    "    if d[i][0] in wrong_pos:\n",
    "        sheet2.write(n, 0, d[i][0], styleWrongPos)\n",
    "        n += 1\n",
    "    elif not d[i][0] in useless_pos and len(d[i][1]) != 4:\n",
    "        less_pos.add(d[i][0])\n",
    "        sheet2.write(n, 0, d[i][0], styleMoreOrLess)\n",
    "        n += 1\n",
    "    elif not d[i][0] in useless_pos and not d[i][0] in locfailed and not d[i][0] in absfailed :\n",
    "        tmp = [float(x) for x in d[i][1]]\n",
    "        mean = np.mean(tmp)\n",
    "        std = np.std(tmp) # 用对总体求标准差公式对样本数据求标准差\n",
    "        cv = std / mean\n",
    "        if cv<=0.15:\n",
    "            sheet1.write(m, 0, d[i][0])\n",
    "            for j in range(len(d[i][1])):\n",
    "                sheet1.write(m, j + 1, d[i][1][j])\n",
    "                sheet1.write(m, j + 2, mean)\n",
    "                sheet1.write(m, j + 3, std / mean)\n",
    "            m += 1\n",
    "        else:\n",
    "            cvfailed.add(d[i][0])"
   ]
  },
  {
   "cell_type": "code",
   "execution_count": 9,
   "metadata": {},
   "outputs": [],
   "source": [
    "\n",
    "# 找到并输出缺失膜号\n",
    "lose_pos = set()\n",
    "monum = 4245 + 1\n",
    "exist = [False] * monum\n",
    "n = 1\n",
    "for data in d:\n",
    "    if not data[0] in useless_pos and data[0] < monum:\n",
    "        exist[data[0]] = True\n",
    "for i in range(len(exist)):\n",
    "    if not exist[i]:\n",
    "        if i != 0:\n",
    "            sheet2.write(n, 2, i)\n",
    "            lose_pos.add(i)\n",
    "            n += 1\n"
   ]
  },
  {
   "cell_type": "code",
   "execution_count": 10,
   "metadata": {},
   "outputs": [],
   "source": [
    "\n",
    "# 输出不合格膜号\n",
    "n = 1\n",
    "for i in locfailed :\n",
    "    if not i in useless_pos and i not in absfailed and i not in cvfailed:\n",
    "        sheet2.write(n, 4, i)\n",
    "        n += 1\n",
    "n = 1\n",
    "for i in absfailed:\n",
    "    if not i in useless_pos and i not in cvfailed:\n",
    "        sheet2.write(n, 6, i)\n",
    "        n += 1\n",
    "n = 1\n",
    "for i in cvfailed:\n",
    "    if not i in useless_pos:\n",
    "        sheet2.write(n, 8, i)\n",
    "        n += 1\n",
    "failed = set()\n",
    "failed = locfailed|absfailed|cvfailed|wrong_pos|lose_pos|less_pos\n",
    "n = 1\n",
    "x = 0\n",
    "l = (len(failed)//10)\n",
    "for i in failed:\n",
    "    if i not in useless_pos:\n",
    "        if n<=l:\n",
    "            sheet2.write(n, 10 + x, i)\n",
    "            n += 1\n",
    "        elif n>l:\n",
    "            n = 1\n",
    "            x += 1\n",
    "            sheet2.write(n, 10 + x, i)\n",
    "            n += 1\n"
   ]
  },
  {
   "cell_type": "code",
   "execution_count": 11,
   "metadata": {},
   "outputs": [
    {
     "name": "stdout",
     "output_type": "stream",
     "text": [
      "请查看文件\n"
     ]
    }
   ],
   "source": [
    "\n",
    "# 导出工作簿\n",
    "wb.save('筛膜数据处理结果.xls')\n",
    "\n",
    "# 结束提示\n",
    "print('请查看文件')\n"
   ]
  },
  {
   "cell_type": "code",
   "execution_count": null,
   "metadata": {},
   "outputs": [],
   "source": []
  }
 ],
 "metadata": {
  "kernelspec": {
   "display_name": "Python 3",
   "language": "python",
   "name": "python3"
  },
  "language_info": {
   "codemirror_mode": {
    "name": "ipython",
    "version": 3
   },
   "file_extension": ".py",
   "mimetype": "text/x-python",
   "name": "python",
   "nbconvert_exporter": "python",
   "pygments_lexer": "ipython3",
   "version": "3.7.3"
  }
 },
 "nbformat": 4,
 "nbformat_minor": 2
}
